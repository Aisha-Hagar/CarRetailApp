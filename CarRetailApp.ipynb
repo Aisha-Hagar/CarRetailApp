{
 "cells": [
  {
   "cell_type": "markdown",
   "metadata": {
    "id": "iDV9IglePT_3"
   },
   "source": [
    "# **Setup**"
   ]
  },
  {
   "cell_type": "code",
   "execution_count": 1,
   "metadata": {},
   "outputs": [],
   "source": [
    "import gradio as gr\n",
    "import torch\n",
    "import carClassifier\n",
    "import LLM_JSON\n",
    "import json\n",
    "from torch.utils.data import DataLoader\n",
    "from torchvision import transforms\n",
    "import numpy as np\n",
    "import langchain "
   ]
  },
  {
   "cell_type": "markdown",
   "metadata": {
    "id": "Fg0HMsYmPYwc"
   },
   "source": [
    "# **Image Classification**"
   ]
  },
  {
   "cell_type": "code",
   "execution_count": 2,
   "metadata": {
    "colab": {
     "base_uri": "https://localhost:8080/"
    },
    "id": "9ESJySfiJV8z",
    "outputId": "c6d10033-24d1-4c07-9158-4d4c41c0e5e2"
   },
   "outputs": [],
   "source": [
    "#Load the image classification model\n",
    "device = torch.device('cpu')\n",
    "car_model = carClassifier.CarTypeClassifier(10)\n",
    "car_model = torch.jit.load('car_model_scripted.pt', map_location=device)"
   ]
  },
  {
   "cell_type": "code",
   "execution_count": 3,
   "metadata": {
    "colab": {
     "base_uri": "https://localhost:8080/"
    },
    "id": "bUAju40ff1sw",
    "outputId": "6d177ee6-878b-4c12-c145-147defd98f6c"
   },
   "outputs": [
    {
     "name": "stdout",
     "output_type": "stream",
     "text": [
      "{'0': 'Cab', '1': 'Convertible', '2': 'Coupe', '3': 'Hatchback', '4': 'Minivan', '5': 'SUV', '6': 'Sedan', '7': 'SuperCab', '8': 'Van', '9': 'Wagon'}\n"
     ]
    }
   ],
   "source": [
    "#Get class names and indices\n",
    "f = open('Classes Dict.json')\n",
    "classes = json.load(f)\n",
    "\n",
    "f.close()\n",
    "print(classes)"
   ]
  },
  {
   "cell_type": "code",
   "execution_count": 4,
   "metadata": {
    "id": "QDC5SVEuiGQc"
   },
   "outputs": [],
   "source": [
    "# #Apply transforms to image before prediction\n",
    "def ApplyTransform(image):\n",
    "    #batch_size=1\n",
    "    IMG_SIZE = (480, 480)\n",
    "    size = 480\n",
    "    mean = [0.485, 0.456, 0.406]\n",
    "    std = [0.229, 0.224, 0.225]\n",
    "    \n",
    "    predict_transforms = transforms.Compose([\n",
    "        transforms.CenterCrop(size=size),\n",
    "         transforms.Resize(IMG_SIZE),\n",
    "         transforms.Grayscale(num_output_channels=3),\n",
    "         transforms.ToTensor(),\n",
    "         transforms.Normalize(mean, std)\n",
    "    ])\n",
    "    \n",
    "    # test_dataloader = DataLoader(\n",
    "    #     predict_transforms(image),\n",
    "    #     batch_size=batch_size\n",
    "    # )\n",
    "    \n",
    "    return predict_transforms(image)"
   ]
  },
  {
   "cell_type": "code",
   "execution_count": 5,
   "metadata": {},
   "outputs": [],
   "source": [
    "# def predict(image):\n",
    "#     print(image.shape)\n",
    "#     image_tensor=ApplyTransform(image)\n",
    "#     print(image_tensor.size())\n",
    "\n",
    "#     car_model.eval()\n",
    "#     with torch.no_grad():\n",
    "#         print(image_tensor.size())\n",
    "#         output = car_model(image_tensor)\n",
    "#         _, pred = torch.max(output, 1)\n",
    "#         print(pred)\n",
    "#         body_type=classes[pred]\n",
    "#         return body_type\n",
    "\n",
    "def predict(image):\n",
    "  return 'car body type'    "
   ]
  },
  {
   "cell_type": "markdown",
   "metadata": {
    "id": "tCkChapVPoVG"
   },
   "source": [
    "# **LLM**"
   ]
  },
  {
   "cell_type": "code",
   "execution_count": 6,
   "metadata": {},
   "outputs": [
    {
     "name": "stderr",
     "output_type": "stream",
     "text": [
      "D:\\Ash'Ooosha\\Software\\Python\\Python310\\lib\\site-packages\\langchain_core\\_api\\deprecation.py:139: LangChainDeprecationWarning: The class `AzureChatOpenAI` was deprecated in LangChain 0.0.10 and will be removed in 0.3.0. An updated version of the class exists in the langchain-openai package and should be used instead. To use it run `pip install -U langchain-openai` and import as `from langchain_openai import AzureChatOpenAI`.\n",
      "  warn_deprecated(\n",
      "D:\\Ash'Ooosha\\Software\\Python\\Python310\\lib\\site-packages\\langchain_community\\chat_models\\azure_openai.py:167: UserWarning: As of openai>=1.0.0, Azure endpoints should be specified via the `azure_endpoint` param not `openai_api_base` (or alias `base_url`). Updating `openai_api_base` from https://orionopenai.openai.azure.com/ to https://orionopenai.openai.azure.com/openai.\n",
      "  warnings.warn(\n",
      "D:\\Ash'Ooosha\\Software\\Python\\Python310\\lib\\site-packages\\langchain_community\\chat_models\\azure_openai.py:174: UserWarning: As of openai>=1.0.0, if `deployment_name` (or alias `azure_deployment`) is specified then `openai_api_base` (or alias `base_url`) should not be. Instead use `deployment_name` (or alias `azure_deployment`) and `azure_endpoint`.\n",
      "  warnings.warn(\n",
      "D:\\Ash'Ooosha\\Software\\Python\\Python310\\lib\\site-packages\\langchain_community\\chat_models\\azure_openai.py:182: UserWarning: As of openai>=1.0.0, if `openai_api_base` (or alias `base_url`) is specified it is expected to be of the form https://example-resource.azure.openai.com/openai/deployments/example-deployment. Updating https://orionopenai.openai.azure.com/ to https://orionopenai.openai.azure.com/openai.\n",
      "  warnings.warn(\n",
      "D:\\Ash'Ooosha\\Software\\Python\\Python310\\lib\\site-packages\\langchain_core\\_api\\deprecation.py:139: LangChainDeprecationWarning: LangChain has introduced a method called `with_structured_output` that is available on ChatModels capable of tool calling. You can read more about the method here: https://python.langchain.com/docs/modules/model_io/chat/structured_output/ Please follow our extraction use case documentation for more guidelines on how to do information extraction with LLMs. https://python.langchain.com/docs/use_cases/extraction/. If you notice other issues, please provide feedback here: https://github.com/langchain-ai/langchain/discussions/18154\n",
      "  warn_deprecated(\n"
     ]
    }
   ],
   "source": [
    "llm_model = LLM_JSON.LLM()"
   ]
  },
  {
   "cell_type": "markdown",
   "metadata": {
    "id": "AotCdA-qPvOK"
   },
   "source": [
    "# **Gradio**"
   ]
  },
  {
   "cell_type": "code",
   "execution_count": 7,
   "metadata": {
    "id": "6cpWUsYNHIH6"
   },
   "outputs": [],
   "source": [
    "def car_description(text, image):\n",
    "    \n",
    "    #predict body type\n",
    "    body_type = predict(image)\n",
    "        \n",
    "    #extract car attributes\n",
    "    llm_json = llm_model.llm_response(text)\n",
    "    \n",
    "    #Add body type to extracted attributes\n",
    "    new_dictionary = {\"body_type\": body_type}\n",
    "    new_dictionary.update(llm_json['car'])\n",
    "    new_dict = {'car':new_dictionary}\n",
    "    \n",
    "    return new_dict"
   ]
  },
  {
   "cell_type": "code",
   "execution_count": 8,
   "metadata": {
    "colab": {
     "base_uri": "https://localhost:8080/",
     "height": 1000
    },
    "id": "5bjm12QyHFsx",
    "outputId": "dfb2dcaf-d7a0-4afc-e159-028ead8cd07b"
   },
   "outputs": [
    {
     "name": "stdout",
     "output_type": "stream",
     "text": [
      "Running on local URL:  http://127.0.0.1:7861\n",
      "Running on public URL: https://1195dde175d05679ba.gradio.live\n",
      "\n",
      "This share link expires in 72 hours. For free permanent hosting and GPU upgrades, run `gradio deploy` from Terminal to deploy to Spaces (https://huggingface.co/spaces)\n"
     ]
    },
    {
     "data": {
      "text/html": [
       "<div><iframe src=\"https://1195dde175d05679ba.gradio.live\" width=\"100%\" height=\"500\" allow=\"autoplay; camera; microphone; clipboard-read; clipboard-write;\" frameborder=\"0\" allowfullscreen></iframe></div>"
      ],
      "text/plain": [
       "<IPython.core.display.HTML object>"
      ]
     },
     "metadata": {},
     "output_type": "display_data"
    },
    {
     "data": {
      "text/plain": []
     },
     "execution_count": 8,
     "metadata": {},
     "output_type": "execute_result"
    }
   ],
   "source": [
    "langchain.debug = True \n",
    "interface = gr.Interface(fn=car_description, inputs=[gr.Textbox(lines=5, placeholder=\"Type car description\"), gr.components.Image()],\n",
    "                     outputs=gr.JSON(), title=\"Online car-selling platform\",\n",
    "                     description=\"Display car attributes in JSON format\")\n",
    "\n",
    "# Launch the interface\n",
    "interface.launch(share=True)"
   ]
  }
 ],
 "metadata": {
  "colab": {
   "provenance": []
  },
  "kernelspec": {
   "display_name": "Python 3 (ipykernel)",
   "language": "python",
   "name": "python3"
  },
  "language_info": {
   "codemirror_mode": {
    "name": "ipython",
    "version": 3
   },
   "file_extension": ".py",
   "mimetype": "text/x-python",
   "name": "python",
   "nbconvert_exporter": "python",
   "pygments_lexer": "ipython3",
   "version": "3.10.2"
  }
 },
 "nbformat": 4,
 "nbformat_minor": 4
}
